{
 "cells": [
  {
   "cell_type": "markdown",
   "metadata": {},
   "source": [
    "* List Comprehensions"
   ]
  },
  {
   "cell_type": "code",
   "execution_count": 7,
   "metadata": {},
   "outputs": [
    {
     "name": "stdout",
     "output_type": "stream",
     "text": [
      "1\n",
      "1\n",
      "2\n",
      "3\n",
      "[[0, 0, 0], [0, 0, 1], [0, 0, 2], [0, 1, 0], [0, 1, 1], [1, 0, 0], [1, 0, 1], [1, 1, 0], [1, 1, 2]]\n"
     ]
    }
   ],
   "source": [
    "\n",
    "x = int(input())\n",
    "y = int(input())\n",
    "z = int(input())\n",
    "n = int(input())\n",
    "    \n",
    "print([ [i,j,k] for i in range(x+1) for j in range(y+1) for k in range(z+1) if i+j+k != n] )"
   ]
  },
  {
   "cell_type": "markdown",
   "metadata": {},
   "source": [
    "* Find the Runner-Up Score!"
   ]
  },
  {
   "cell_type": "code",
   "execution_count": 40,
   "metadata": {},
   "outputs": [
    {
     "name": "stdout",
     "output_type": "stream",
     "text": [
      "5 \n",
      "1 2 6 6 5\n",
      "5\n"
     ]
    }
   ],
   "source": [
    "n = int(input())\n",
    "arr = list(set(list(map(int, input().split()))))\n",
    "\n",
    "arr.sort()\n",
    "\n",
    "print(arr[-2])"
   ]
  },
  {
   "cell_type": "markdown",
   "metadata": {},
   "source": [
    "* Nested Lists"
   ]
  },
  {
   "cell_type": "code",
   "execution_count": 53,
   "metadata": {},
   "outputs": [],
   "source": [
    "if __name__ == '__main__':\n",
    "    student_list = []\n",
    "    for _ in range(int(input())):\n",
    "        name = input()\n",
    "        score = float(input())\n",
    "        student_list.append([name,score])\n",
    "        \n",
    "    m_list = [i[1] for i in student_list]\n",
    "    m_list = list(set(m_list))\n",
    "    m_list.sort()\n",
    "    \n",
    "    second_list = [i[0] for i in student_list if i[1]==m_list[1]]\n",
    "    second_list.sort()\n",
    "    \n",
    "#     for i in second_list:\n",
    "#         print(i)\n",
    "\n",
    "    print(*second_list,end=\"\\n\")"
   ]
  },
  {
   "cell_type": "markdown",
   "metadata": {},
   "source": [
    "* Finding The Percentage"
   ]
  },
  {
   "cell_type": "code",
   "execution_count": 67,
   "metadata": {},
   "outputs": [
    {
     "name": "stdout",
     "output_type": "stream",
     "text": [
      "3\n",
      "Krishna 67 68 69\n",
      "Arjun 70 98 63\n",
      "Malika 52 56 60\n",
      "Malika\n",
      "56.00\n"
     ]
    }
   ],
   "source": [
    "n = int(input())\n",
    "student_marks = {}\n",
    "for _ in range(n):\n",
    "    name, *line = input().split()\n",
    "    scores = list(map(float, line))\n",
    "    student_marks[name] = scores\n",
    "query_name = input()\n",
    "\n",
    "avrg = sum(student_marks[query_name])/len(student_marks[query_name])\n",
    "\n",
    "print(format(avrg, '.2f'))"
   ]
  },
  {
   "cell_type": "markdown",
   "metadata": {},
   "source": [
    "* Re.start() & Re.end()"
   ]
  },
  {
   "cell_type": "code",
   "execution_count": 95,
   "metadata": {},
   "outputs": [
    {
     "name": "stdout",
     "output_type": "stream",
     "text": [
      "aaadaa\n",
      "aa\n",
      "(0, 1)\n",
      "(1, 2)\n",
      "(4, 5)\n"
     ]
    }
   ],
   "source": [
    "S = input()\n",
    "k = input()\n",
    "import re\n",
    "pattern = re.compile(k)\n",
    "r = pattern.search(S)\n",
    "if not r: print(\"(-1, -1)\")\n",
    "while r:\n",
    "    print(\"({0}, {1})\".format(r.start(), r.end() - 1))\n",
    "    r = pattern.search(S,r.start() + 1)"
   ]
  },
  {
   "cell_type": "code",
   "execution_count": null,
   "metadata": {},
   "outputs": [],
   "source": []
  },
  {
   "cell_type": "code",
   "execution_count": 101,
   "metadata": {},
   "outputs": [
    {
     "name": "stdout",
     "output_type": "stream",
     "text": [
      "3\n",
      "Mike Thomson 20 M\n",
      "Robert Bustle 32 M\n",
      "Andria Bustle 30 F\n",
      "[['Mike', 'Thomson', '20', 'M'], ['Robert', 'Bustle', '32', 'M'], ['Andria', 'Bustle', '30', 'F']]\n"
     ]
    },
    {
     "ename": "TypeError",
     "evalue": "print() argument after * must be an iterable, not NoneType",
     "output_type": "error",
     "traceback": [
      "\u001b[0;31m---------------------------------------------------------------------------\u001b[0m",
      "\u001b[0;31mTypeError\u001b[0m                                 Traceback (most recent call last)",
      "\u001b[0;32m<ipython-input-101-577d4423e9a3>\u001b[0m in \u001b[0;36m<module>\u001b[0;34m\u001b[0m\n\u001b[1;32m     12\u001b[0m \u001b[0;32mif\u001b[0m \u001b[0m__name__\u001b[0m \u001b[0;34m==\u001b[0m \u001b[0;34m'__main__'\u001b[0m\u001b[0;34m:\u001b[0m\u001b[0;34m\u001b[0m\u001b[0;34m\u001b[0m\u001b[0m\n\u001b[1;32m     13\u001b[0m     \u001b[0mpeople\u001b[0m \u001b[0;34m=\u001b[0m \u001b[0;34m[\u001b[0m\u001b[0minput\u001b[0m\u001b[0;34m(\u001b[0m\u001b[0;34m)\u001b[0m\u001b[0;34m.\u001b[0m\u001b[0msplit\u001b[0m\u001b[0;34m(\u001b[0m\u001b[0;34m)\u001b[0m \u001b[0;32mfor\u001b[0m \u001b[0mi\u001b[0m \u001b[0;32min\u001b[0m \u001b[0mrange\u001b[0m\u001b[0;34m(\u001b[0m\u001b[0mint\u001b[0m\u001b[0;34m(\u001b[0m\u001b[0minput\u001b[0m\u001b[0;34m(\u001b[0m\u001b[0;34m)\u001b[0m\u001b[0;34m)\u001b[0m\u001b[0;34m)\u001b[0m\u001b[0;34m]\u001b[0m\u001b[0;34m\u001b[0m\u001b[0;34m\u001b[0m\u001b[0m\n\u001b[0;32m---> 14\u001b[0;31m     \u001b[0mprint\u001b[0m\u001b[0;34m(\u001b[0m\u001b[0;34m*\u001b[0m\u001b[0mname_format\u001b[0m\u001b[0;34m(\u001b[0m\u001b[0mpeople\u001b[0m\u001b[0;34m)\u001b[0m\u001b[0;34m,\u001b[0m \u001b[0msep\u001b[0m\u001b[0;34m=\u001b[0m\u001b[0;34m'\\n'\u001b[0m\u001b[0;34m)\u001b[0m\u001b[0;34m\u001b[0m\u001b[0;34m\u001b[0m\u001b[0m\n\u001b[0m",
      "\u001b[0;31mTypeError\u001b[0m: print() argument after * must be an iterable, not NoneType"
     ]
    }
   ],
   "source": [
    "import operator\n",
    "\n",
    "def person_lister(f):\n",
    "    def inner(people):\n",
    "        return people\n",
    "    return inner\n",
    "\n",
    "@person_lister\n",
    "def name_format(person):\n",
    "    return (\"Mr. \" if person[3] == \"M\" else \"Ms. \") + person[0] + \" \" + person[1]\n",
    "\n",
    "if __name__ == '__main__':\n",
    "    people = [input().split() for i in range(int(input()))]\n",
    "    print(*name_format(people), sep='\\n')"
   ]
  },
  {
   "cell_type": "code",
   "execution_count": 107,
   "metadata": {},
   "outputs": [],
   "source": [
    "people = [['Mike', 'Thomson', '20', 'M'], ['Robert', 'Bustle', '32', 'M'], ['Andria', 'Bustle', '30', 'F']]"
   ]
  },
  {
   "cell_type": "code",
   "execution_count": 109,
   "metadata": {},
   "outputs": [
    {
     "data": {
      "text/plain": [
       "[['Mike', 'Thomson', '20', 'M'],\n",
       " ['Robert', 'Bustle', '32', 'M'],\n",
       " ['Andria', 'Bustle', '30', 'F']]"
      ]
     },
     "execution_count": 109,
     "metadata": {},
     "output_type": "execute_result"
    }
   ],
   "source": [
    "[i for i in people]"
   ]
  },
  {
   "cell_type": "code",
   "execution_count": null,
   "metadata": {},
   "outputs": [],
   "source": []
  },
  {
   "cell_type": "code",
   "execution_count": null,
   "metadata": {},
   "outputs": [],
   "source": []
  },
  {
   "cell_type": "code",
   "execution_count": null,
   "metadata": {},
   "outputs": [],
   "source": []
  }
 ],
 "metadata": {
  "kernelspec": {
   "display_name": "Python 3",
   "language": "python",
   "name": "python3"
  },
  "language_info": {
   "codemirror_mode": {
    "name": "ipython",
    "version": 3
   },
   "file_extension": ".py",
   "mimetype": "text/x-python",
   "name": "python",
   "nbconvert_exporter": "python",
   "pygments_lexer": "ipython3",
   "version": "3.6.9"
  }
 },
 "nbformat": 4,
 "nbformat_minor": 4
}
