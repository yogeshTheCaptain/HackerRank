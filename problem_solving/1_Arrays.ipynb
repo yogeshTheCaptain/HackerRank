{
 "cells": [
  {
   "cell_type": "markdown",
   "metadata": {},
   "source": [
    "* Array-DS"
   ]
  },
  {
   "cell_type": "code",
   "execution_count": 1,
   "metadata": {},
   "outputs": [],
   "source": [
    "def reverseArray(a):\n",
    "    return a[::-1]  ### return [ arr[len(arr)-i-1] for i in range(len(arr))]"
   ]
  },
  {
   "cell_type": "markdown",
   "metadata": {},
   "source": [
    "* 2D Array-DS"
   ]
  },
  {
   "cell_type": "code",
   "execution_count": 2,
   "metadata": {},
   "outputs": [],
   "source": [
    "def hourglassSum(arr):\n",
    "\n",
    "    return max([ (( arr[i-1][j-1] + arr[i-1][j] + arr[i-1][j+1] ) + ( arr[i][j] ) + ( arr[i+1][j-1] + arr[i+1][j] + arr[i+1][j+1] )) for i in range(1,len(arr)-1) for j in range(1,len(arr[i])-1)])\n"
   ]
  },
  {
   "cell_type": "markdown",
   "metadata": {},
   "source": [
    "* Dynamic Array"
   ]
  },
  {
   "cell_type": "code",
   "execution_count": 3,
   "metadata": {},
   "outputs": [],
   "source": [
    "def dynamicArray(n, queries):\n",
    "\n",
    "    twoDarray = [[] for i in range(n)]\n",
    "    s1 = \"\"\n",
    "    lastAnswer = 0\n",
    "\n",
    "    for i in queries:\n",
    "        if i[0] ==1:\n",
    "            twoDarray[(i[1]^lastAnswer)%n].append(i[2])\n",
    "        else:\n",
    "            lastAnswer = twoDarray[(i[1]^lastAnswer)%n][i[2] % len(twoDarray[(i[1]^lastAnswer)%n])]\n",
    "            print(lastAnswer)\n",
    "            s1 += str(lastAnswer)\n",
    "\n",
    "    return s1"
   ]
  },
  {
   "cell_type": "markdown",
   "metadata": {},
   "source": [
    "* Left Rotation"
   ]
  },
  {
   "cell_type": "code",
   "execution_count": 4,
   "metadata": {},
   "outputs": [],
   "source": [
    "def rotateLeft(d, arr):\n",
    "    # Write your code here\n",
    "    return arr[d:] + arr[:d]"
   ]
  },
  {
   "cell_type": "markdown",
   "metadata": {},
   "source": [
    "* Sparse Arrays"
   ]
  },
  {
   "cell_type": "code",
   "execution_count": 5,
   "metadata": {},
   "outputs": [],
   "source": [
    "def matchingStrings(strings, queries):\n",
    "    return [strings.count(i) for i in queries]"
   ]
  },
  {
   "cell_type": "markdown",
   "metadata": {},
   "source": [
    "* Array Manipulation"
   ]
  },
  {
   "cell_type": "code",
   "execution_count": null,
   "metadata": {},
   "outputs": [],
   "source": [
    "def arrayManipulation(n, queries):\n",
    "    array = [0] * (n + 1)\n",
    "\n",
    "    for query in queries: \n",
    "        a = query[0] - 1\n",
    "        b = query[1]\n",
    "        k = query[2]\n",
    "        array[a] += k\n",
    "        array[b] -= k\n",
    "        \n",
    "\n",
    "    max_value = 0\n",
    "    running_count = 0\n",
    "    for i in array:\n",
    "        running_count += i\n",
    "        if running_count > max_value:\n",
    "            max_value = running_count\n",
    "            \n",
    "    return max_value"
   ]
  },
  {
   "cell_type": "code",
   "execution_count": null,
   "metadata": {},
   "outputs": [],
   "source": []
  }
 ],
 "metadata": {
  "kernelspec": {
   "display_name": "Python 3",
   "language": "python",
   "name": "python3"
  },
  "language_info": {
   "codemirror_mode": {
    "name": "ipython",
    "version": 3
   },
   "file_extension": ".py",
   "mimetype": "text/x-python",
   "name": "python",
   "nbconvert_exporter": "python",
   "pygments_lexer": "ipython3",
   "version": "3.6.9"
  }
 },
 "nbformat": 4,
 "nbformat_minor": 4
}
