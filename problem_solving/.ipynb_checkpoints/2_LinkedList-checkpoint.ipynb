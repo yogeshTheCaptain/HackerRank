{
 "cells": [
  {
   "cell_type": "markdown",
   "metadata": {},
   "source": [
    "#  LINKED LIST :"
   ]
  },
  {
   "cell_type": "code",
   "execution_count": 1,
   "metadata": {},
   "outputs": [],
   "source": [
    "import math\n",
    "import os\n",
    "import random\n",
    "import re\n",
    "import sys\n",
    "\n",
    "class SinglyLinkedListNode:\n",
    "    def __init__(self, node_data):\n",
    "        self.data = node_data\n",
    "        self.next = None\n",
    "\n",
    "class SinglyLinkedList:\n",
    "    def __init__(self):\n",
    "        self.head = None\n",
    "        self.tail = None\n",
    "\n",
    "    def insert_node(self, node_data):\n",
    "        node = SinglyLinkedListNode(node_data)\n",
    "\n",
    "        if not self.head:\n",
    "            self.head = node\n",
    "        else:\n",
    "            self.tail.next = node\n",
    "\n",
    "        self.tail = node"
   ]
  },
  {
   "cell_type": "markdown",
   "metadata": {},
   "source": [
    "* Print Linked List"
   ]
  },
  {
   "cell_type": "code",
   "execution_count": 2,
   "metadata": {},
   "outputs": [],
   "source": [
    "def printLinkedList(head):\n",
    "    temp =head\n",
    "    while temp:\n",
    "        print(temp.data)\n",
    "        temp = temp.next"
   ]
  },
  {
   "cell_type": "markdown",
   "metadata": {},
   "source": [
    "* Insert Node At Tail"
   ]
  },
  {
   "cell_type": "code",
   "execution_count": 3,
   "metadata": {},
   "outputs": [],
   "source": [
    "def insertNodeAtTail(head, data):\n",
    "    if head is None :\n",
    "        head = SinglyLinkedListNode(data)\n",
    "        return head\n",
    "    \n",
    "    temp = head\n",
    "    \n",
    "    while temp.next:\n",
    "        temp = temp.next\n",
    "        \n",
    "    temp.next = SinglyLinkedListNode(data)\n",
    "    \n",
    "    return head"
   ]
  },
  {
   "cell_type": "markdown",
   "metadata": {},
   "source": [
    "* Insert A Node At The Head Of A Linked List"
   ]
  },
  {
   "cell_type": "code",
   "execution_count": 4,
   "metadata": {},
   "outputs": [],
   "source": [
    "def insertNodeAtHead(llist, data):\n",
    "    # Write your code here\n",
    "    if llist is None:\n",
    "        llist = SinglyLinkedListNode(data)\n",
    "        return llist\n",
    "    \n",
    "    else:\n",
    "        head = SinglyLinkedListNode(data)\n",
    "        head.next = llist\n",
    "        return head"
   ]
  },
  {
   "cell_type": "markdown",
   "metadata": {},
   "source": [
    "* Insert A Node At A Specific Position In A Linked List"
   ]
  },
  {
   "cell_type": "code",
   "execution_count": 5,
   "metadata": {},
   "outputs": [],
   "source": [
    "def insertNodeAtPosition(head, data, position):\n",
    "\n",
    "    pos = 0\n",
    "    temp = head\n",
    "    \n",
    "    while temp.next:\n",
    "        pos +=1\n",
    "        \n",
    "        if pos==position:\n",
    "            node1 = SinglyLinkedListNode(data)\n",
    "            node1.next = temp.next\n",
    "            temp.next = node1\n",
    "            return head\n",
    "        \n",
    "        temp = temp.next"
   ]
  },
  {
   "cell_type": "markdown",
   "metadata": {},
   "source": [
    "* Delete A Node"
   ]
  },
  {
   "cell_type": "code",
   "execution_count": 6,
   "metadata": {},
   "outputs": [],
   "source": [
    "def deleteNode(head, position):\n",
    "    \n",
    "    if position==0:\n",
    "        head = head.next\n",
    "        return head\n",
    "    \n",
    "    else:\n",
    "        pos = 0 \n",
    "        temp = head\n",
    "        \n",
    "        while temp.next:\n",
    "            pos +=1\n",
    "            \n",
    "            if pos==position:\n",
    "                \n",
    "                temp.next = temp.next.next\n",
    "                \n",
    "                return head\n",
    "            temp = temp.next"
   ]
  },
  {
   "cell_type": "markdown",
   "metadata": {},
   "source": [
    "* Print Linked List In Reverse"
   ]
  },
  {
   "cell_type": "code",
   "execution_count": 7,
   "metadata": {},
   "outputs": [],
   "source": [
    "def reversePrint(head):\n",
    "    temp = head\n",
    "    l1 = []\n",
    "    while temp:\n",
    "        l1.append(str(temp.data))\n",
    "        temp = temp.next\n",
    "        \n",
    "    for i in l1[::-1]:\n",
    "        print(i)"
   ]
  },
  {
   "cell_type": "markdown",
   "metadata": {},
   "source": [
    "* Reverse A Linked List"
   ]
  },
  {
   "cell_type": "code",
   "execution_count": 8,
   "metadata": {},
   "outputs": [],
   "source": [
    "def reverse(head):\n",
    "    temp = head\n",
    "\n",
    "    head1 = None\n",
    "\n",
    "    while temp:\n",
    "        if head1 is None:\n",
    "            head1 = SinglyLinkedListNode(temp.data)\n",
    "        else:\n",
    "            head2 = SinglyLinkedListNode(temp.data)\n",
    "            head2.next =head1\n",
    "            head1 = head2\n",
    "\n",
    "        temp = temp.next\n",
    "        \n",
    "    return head1\n",
    "            "
   ]
  },
  {
   "cell_type": "markdown",
   "metadata": {},
   "source": [
    "* Compare Two Linked Lists"
   ]
  },
  {
   "cell_type": "code",
   "execution_count": 9,
   "metadata": {},
   "outputs": [],
   "source": [
    "def compare_lists(llist1, llist2):\n",
    "    temp1 = llist1\n",
    "    temp2 = llist2\n",
    "    \n",
    "    if llist1 is None and llist2 is not None:\n",
    "        return 0\n",
    "    elif llist1 is not None and llist2 is None:\n",
    "        return 0\n",
    "        \n",
    "    while 1:\n",
    "\n",
    "        if temp1 is not None and temp2 is None:\n",
    "            return 0\n",
    "        elif temp1 is None and temp2 is not None:\n",
    "            return 0\n",
    "        elif temp1 is None and temp2 is None:\n",
    "            return 1\n",
    "        elif temp1.data != temp2.data:\n",
    "            return 0\n",
    "        \n",
    "        temp1 = temp1.next\n",
    "        temp2 = temp2.next"
   ]
  },
  {
   "cell_type": "markdown",
   "metadata": {},
   "source": [
    "* Merge Two Sorted Linked Lists"
   ]
  },
  {
   "cell_type": "code",
   "execution_count": 10,
   "metadata": {},
   "outputs": [],
   "source": [
    "def mergeLists(head1, head2):\n",
    "    node1 = SinglyLinkedListNode(0)\n",
    "    tail  = node1\n",
    "    while 1:\n",
    "        if head1 is None:\n",
    "            tail.next = head2\n",
    "            break\n",
    "        elif head2 is None:\n",
    "            tail.next = head1\n",
    "            break   \n",
    "        elif head1.data<=head2.data:\n",
    "            tail.next = head1\n",
    "            head1     = head1.next\n",
    "        else:\n",
    "            tail.next = head2\n",
    "            head1     = head2.next\n",
    "        tail = tail.next\n",
    "    return node1.next\n",
    "\n",
    "\n",
    "##### recursive verison #####\n",
    "\n",
    "def mergeLists(head1, head2):\n",
    "    if head1 is None and head2 is None:\n",
    "        return None\n",
    "\n",
    "    if head1 is None:\n",
    "        return head2\n",
    "\n",
    "    if head2 is None:\n",
    "        return head1\n",
    "\n",
    "    if head1.data < head2.data:\n",
    "        smallerNode = head1\n",
    "        smallerNode.next = mergeLists(head1.next, head2)\n",
    "    else:\n",
    "        smallerNode = head2\n",
    "        smallerNode.next = mergeLists(head1, head2.next)\n",
    "\n",
    "    return smallerNode"
   ]
  },
  {
   "cell_type": "markdown",
   "metadata": {},
   "source": [
    "* Get Node Value"
   ]
  },
  {
   "cell_type": "code",
   "execution_count": 11,
   "metadata": {},
   "outputs": [],
   "source": [
    "def getNode(head, positionFromTail):\n",
    "    l1 = []\n",
    "    while head:\n",
    "        l1.append(head.data)\n",
    "        head = head.next\n",
    "        \n",
    "    return l1[::-1][positionFromTail]"
   ]
  },
  {
   "cell_type": "markdown",
   "metadata": {},
   "source": [
    "* Delete Duplicate-Value Nodes From A Sorted Linked List"
   ]
  },
  {
   "cell_type": "code",
   "execution_count": 12,
   "metadata": {},
   "outputs": [],
   "source": [
    "def removeDuplicates(head):\n",
    "    temp = head\n",
    "    while temp.next is not None:\n",
    "        if temp.data == temp.next.data:\n",
    "            temp1 = temp.next.next\n",
    "            temp.next = None\n",
    "            temp.next = temp1\n",
    "        else:\n",
    "            temp = temp.next\n",
    "            \n",
    "    return head"
   ]
  },
  {
   "cell_type": "markdown",
   "metadata": {},
   "source": [
    "* Find Merge Point of Two Lists"
   ]
  },
  {
   "cell_type": "code",
   "execution_count": 13,
   "metadata": {},
   "outputs": [],
   "source": [
    "def findMergeNode(head1, head2):\n",
    "    temp1 = head1\n",
    "    temp2 = head2\n",
    "\n",
    "    while temp1!=temp2:\n",
    "        if temp1.next == None:\n",
    "            temp1 = head2\n",
    "        else:\n",
    "            temp1=temp1.next\n",
    "            \n",
    "        if temp2.next == None:\n",
    "            temp2 = head1\n",
    "        else:\n",
    "            temp2=temp2.next\n",
    "            \n",
    "    return temp2.data"
   ]
  },
  {
   "cell_type": "markdown",
   "metadata": {},
   "source": [
    "* Cycle Detection"
   ]
  },
  {
   "cell_type": "code",
   "execution_count": null,
   "metadata": {},
   "outputs": [],
   "source": [
    "def has_cycle(head):\n",
    "    temp1 = head\n",
    "    temp2 = head\n",
    "    \n",
    "    while temp2 and temp2.next :\n",
    "        temp1 = temp1.next\n",
    "        temp2 = temp2.next.next\n",
    "        if temp1==temp2:\n",
    "            return 1\n",
    "        \n",
    "    return 0"
   ]
  },
  {
   "cell_type": "markdown",
   "metadata": {},
   "source": [
    "# Doubly Linked List :"
   ]
  },
  {
   "cell_type": "code",
   "execution_count": 57,
   "metadata": {},
   "outputs": [
    {
     "name": "stdout",
     "output_type": "stream",
     "text": [
      "3\n",
      "2\n",
      "3\n",
      "4\n",
      "1\n"
     ]
    }
   ],
   "source": [
    "import math\n",
    "import os\n",
    "import random\n",
    "import re\n",
    "import sys\n",
    "\n",
    "class DoublyLinkedListNode:\n",
    "    def __init__(self, node_data):\n",
    "        self.data = node_data\n",
    "        self.next = None\n",
    "        self.prev = None\n",
    "\n",
    "class DoublyLinkedList:\n",
    "    def __init__(self):\n",
    "        self.head = None\n",
    "        self.tail = None\n",
    "\n",
    "    def insert_node(self, node_data):\n",
    "        node = DoublyLinkedListNode(node_data)\n",
    "\n",
    "        if not self.head:\n",
    "            self.head = node\n",
    "        else:\n",
    "            self.tail.next = node\n",
    "            node.prev = self.tail\n",
    "\n",
    "        self.tail = node\n",
    "\n",
    "def print_doubly_linked_list(node):\n",
    "    while node:\n",
    "        print(node.data)\n",
    "        node = node.next\n",
    "        \n",
    "\n",
    "llist_count = int(input())\n",
    "\n",
    "llist = DoublyLinkedList()\n",
    "\n",
    "for _ in range(llist_count):\n",
    "    llist_item = int(input())\n",
    "    llist.insert_node(llist_item)\n",
    "\n",
    "\n",
    "data = int(input())"
   ]
  },
  {
   "cell_type": "markdown",
   "metadata": {},
   "source": [
    "* Inserting A Node Into A Sorted Doubly Linked List"
   ]
  },
  {
   "cell_type": "code",
   "execution_count": null,
   "metadata": {},
   "outputs": [],
   "source": [
    "def sortedInsert(head, data):\n",
    "    newNode = DoublyLinkedListNode(data)\n",
    "\n",
    "    temp1 = head\n",
    "\n",
    "    while temp1:\n",
    "        if temp1.data>=data:\n",
    "            \n",
    "            prev1 = temp1.prev\n",
    "            if prev1:\n",
    "                prev1.next = newNode\n",
    "                newNode.prev = prev1\n",
    "            else:\n",
    "                temp1.prev = newNode\n",
    "                head = newNode\n",
    "                \n",
    "            newNode.next  = temp1\n",
    "            \n",
    "            break\n",
    "            \n",
    "        if temp1.next is None:\n",
    "            temp1.next = newNode\n",
    "            newNode.prev = temp1\n",
    "            break\n",
    "        \n",
    "        temp1 = temp1.next\n",
    "        \n",
    "    return head\n"
   ]
  },
  {
   "cell_type": "markdown",
   "metadata": {},
   "source": [
    "* Reverse a doubly linked list"
   ]
  },
  {
   "cell_type": "code",
   "execution_count": 67,
   "metadata": {},
   "outputs": [],
   "source": [
    "def reverse(head):\n",
    "    \n",
    "    temp = head\n",
    "    newHead = head\n",
    "    \n",
    "    while temp!=None:\n",
    "        prev1 = temp.prev\n",
    "        temp.prev = temp.next\n",
    "        temp.next = prev1\n",
    "        newHead = temp\n",
    "        temp = temp.prev\n",
    "        \n",
    "    return newHead"
   ]
  },
  {
   "cell_type": "code",
   "execution_count": null,
   "metadata": {},
   "outputs": [],
   "source": []
  }
 ],
 "metadata": {
  "kernelspec": {
   "display_name": "Python 3",
   "language": "python",
   "name": "python3"
  },
  "language_info": {
   "codemirror_mode": {
    "name": "ipython",
    "version": 3
   },
   "file_extension": ".py",
   "mimetype": "text/x-python",
   "name": "python",
   "nbconvert_exporter": "python",
   "pygments_lexer": "ipython3",
   "version": "3.6.9"
  }
 },
 "nbformat": 4,
 "nbformat_minor": 4
}
