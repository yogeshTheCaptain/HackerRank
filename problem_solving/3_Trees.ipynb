{
 "cells": [
  {
   "cell_type": "code",
   "execution_count": 25,
   "metadata": {},
   "outputs": [
    {
     "name": "stdout",
     "output_type": "stream",
     "text": [
      "7\n",
      "1 2 4 3 5 6 7\n"
     ]
    }
   ],
   "source": [
    "class Node:\n",
    "    def __init__(self, info): \n",
    "        self.info = info  \n",
    "        self.left = None  \n",
    "        self.right = None \n",
    "        self.level = None \n",
    "\n",
    "    def __str__(self):\n",
    "        return str(self.info) \n",
    "\n",
    "class BinarySearchTree:\n",
    "    def __init__(self): \n",
    "        self.root = None\n",
    "\n",
    "    def create(self, val):  \n",
    "        if self.root == None:\n",
    "            self.root = Node(val)\n",
    "        else:\n",
    "            current = self.root\n",
    "         \n",
    "            while True:\n",
    "                if val < current.info:\n",
    "                    if current.left:\n",
    "                        current = current.left\n",
    "                    else:\n",
    "                        current.left = Node(val)\n",
    "                        break\n",
    "                elif val > current.info:\n",
    "                    if current.right:\n",
    "                        current = current.right\n",
    "                    else:\n",
    "                        current.right = Node(val)\n",
    "                        break\n",
    "                else:\n",
    "                    break\n",
    "\n",
    "\n",
    "\n",
    "tree = BinarySearchTree()\n",
    "t = int(input())\n",
    "\n",
    "arr = list(map(int, input().split()))\n",
    "\n",
    "for i in range(t):\n",
    "    tree.create(arr[i])\n",
    "\n"
   ]
  },
  {
   "cell_type": "markdown",
   "metadata": {},
   "source": [
    "###### BST having n nodes :\n"
   ]
  },
  {
   "cell_type": "markdown",
   "metadata": {},
   "source": [
    "* maximum height  = n -1\n",
    "* minimum height  = floor(log2n)"
   ]
  },
  {
   "cell_type": "markdown",
   "metadata": {},
   "source": [
    "###### BST having height h :"
   ]
  },
  {
   "cell_type": "markdown",
   "metadata": {},
   "source": [
    "* minimum nodes = h+1 (In case of left and right skewed tree)\n",
    "* maximum nodes = 2^(n+1) (In case , when all levels are completely full)"
   ]
  },
  {
   "cell_type": "markdown",
   "metadata": {},
   "source": [
    "* Pre-Order Traversal"
   ]
  },
  {
   "cell_type": "code",
   "execution_count": 4,
   "metadata": {},
   "outputs": [],
   "source": [
    "def preOrder(root):\n",
    "    temp = root\n",
    "    print(temp,end = \" \")\n",
    "\n",
    "    if temp.left:\n",
    "        preOrder(temp.left)\n",
    "    if temp.right:\n",
    "        preOrder(temp.right)"
   ]
  },
  {
   "cell_type": "markdown",
   "metadata": {},
   "source": [
    "* Post-Order Traversal"
   ]
  },
  {
   "cell_type": "code",
   "execution_count": 5,
   "metadata": {},
   "outputs": [],
   "source": [
    "def postOrder(root):\n",
    "    temp = root\n",
    "    if temp.left:\n",
    "        postOrder(temp.left)\n",
    "    if temp.right:\n",
    "        postOrder(temp.right)\n",
    "        \n",
    "    print(temp,end = \" \")"
   ]
  },
  {
   "cell_type": "markdown",
   "metadata": {},
   "source": [
    "* In-Order Traversal"
   ]
  },
  {
   "cell_type": "code",
   "execution_count": 6,
   "metadata": {},
   "outputs": [],
   "source": [
    "def inOrder(root):\n",
    "    temp = root\n",
    "    if temp.left:\n",
    "        inOrder(temp.left)\n",
    "    print(temp,end = \" \")\n",
    "    if temp.right:\n",
    "        inOrder(temp.right)\n",
    "        \n",
    "    "
   ]
  },
  {
   "cell_type": "markdown",
   "metadata": {},
   "source": [
    "* Height of Binary Search Tree"
   ]
  },
  {
   "cell_type": "code",
   "execution_count": 7,
   "metadata": {},
   "outputs": [],
   "source": [
    "def height(root):\n",
    "    return -1 if root is None else max((height(root.left)+1),(height(root.right)+1))\n"
   ]
  },
  {
   "cell_type": "markdown",
   "metadata": {},
   "source": [
    "* Top-View of Binary Search Tree"
   ]
  },
  {
   "cell_type": "code",
   "execution_count": 8,
   "metadata": {},
   "outputs": [],
   "source": [
    "from queue import Queue\n",
    "\n",
    "def topView(root):\n",
    "    uniq_lvls = []\n",
    "    q = Queue()\n",
    "    q.put((root, 0))\n",
    "    \n",
    "    while not q.empty():\n",
    "        temp = q.get()\n",
    "        if temp[1] not in (i[1] for i in uniq_lvls):\n",
    "            \n",
    "            uniq_lvls.append(temp)\n",
    "        if temp[0].left:\n",
    "            q.put((temp[0].left, temp[1]-1))\n",
    "        if temp[0].right:\n",
    "            q.put((temp[0].right, temp[1]+1))\n",
    "            \n",
    "    for x in sorted(uniq_lvls, key=lambda e: e[1]):\n",
    "        print(x[0].info, end=' ')"
   ]
  },
  {
   "cell_type": "markdown",
   "metadata": {},
   "source": [
    "* Binary Search Tree : Insertion"
   ]
  },
  {
   "cell_type": "code",
   "execution_count": 9,
   "metadata": {},
   "outputs": [],
   "source": [
    "\n",
    "def insert(root, val):\n",
    "\n",
    "    if root is None:\n",
    "        root = Node(val)\n",
    "    else:\n",
    "        temp = root\n",
    "\n",
    "        while True:\n",
    "            if val < temp.info:\n",
    "                if temp.left:\n",
    "                    temp = temp.left\n",
    "                else:\n",
    "                    temp.left = Node(val)\n",
    "                    break\n",
    "            elif val > temp.info:\n",
    "                if temp.right:\n",
    "                    temp = temp.right\n",
    "                else:\n",
    "                    temp.right = Node(val)\n",
    "                    break\n",
    "\n",
    "            else:\n",
    "                break"
   ]
  },
  {
   "cell_type": "markdown",
   "metadata": {},
   "source": [
    "* Binary Search Tree : Lowest Common Ancestor"
   ]
  },
  {
   "cell_type": "code",
   "execution_count": 10,
   "metadata": {},
   "outputs": [],
   "source": [
    "def lca(root, a, b):\n",
    "    node = root\n",
    "    while node:\n",
    "        if max(a, b) < node.info:\n",
    "            node = node.left\n",
    "        elif min(a, b) > node.info:\n",
    "            node = node.right\n",
    "        else:\n",
    "            break\n",
    "    return node"
   ]
  },
  {
   "cell_type": "markdown",
   "metadata": {},
   "source": [
    "* Tree: Level Order Traversal"
   ]
  },
  {
   "cell_type": "code",
   "execution_count": 11,
   "metadata": {},
   "outputs": [],
   "source": [
    "def levelOrder(root):\n",
    "    #Write your code here\n",
    "    q=[]\n",
    "    q.append(root)\n",
    "    while (len(q)):\n",
    "        temp = q[0]\n",
    "        q.pop(0)\n",
    "        print(temp,end = \" \")\n",
    "        if temp.left:\n",
    "            q.append(temp.left)\n",
    "        if temp.right:\n",
    "            q.append(temp.right)"
   ]
  },
  {
   "cell_type": "markdown",
   "metadata": {},
   "source": [
    "* Tree: Huffman Decoding"
   ]
  },
  {
   "cell_type": "code",
   "execution_count": 18,
   "metadata": {},
   "outputs": [],
   "source": [
    "def decodeHuff(root, s):\n",
    "    #Write your code here\n",
    "    temp =root\n",
    "    while (len(s)):\n",
    "        if s[0] == \"1\":\n",
    "            if temp.right:\n",
    "                temp = temp.right\n",
    "                if temp.right is None or temp.left is None:\n",
    "                    print(temp.data,end=\"\")\n",
    "                    temp =root\n",
    "\n",
    "            else:\n",
    "                print(temp.data,end=\"\")\n",
    "                temp =root\n",
    "\n",
    "        elif s[0] == \"0\":\n",
    "            if temp.left:\n",
    "                temp = temp.left\n",
    "                if temp.right is None or temp.left is None:\n",
    "                    print(temp.data,end=\"\")\n",
    "                    temp =root\n",
    "            else:\n",
    "                print(temp.data,end=\"\")\n",
    "                \n",
    "        s = s[1:]\n",
    "                "
   ]
  },
  {
   "cell_type": "markdown",
   "metadata": {},
   "source": [
    "* Is This a Binary Search Tree?"
   ]
  },
  {
   "cell_type": "code",
   "execution_count": 31,
   "metadata": {},
   "outputs": [],
   "source": [
    "def check_binary_search_tree_(root):\n",
    "    \n",
    "    l1 = []\n",
    "    \n",
    "    def inOrder(root):\n",
    "        temp = root\n",
    "        if temp.left:\n",
    "            inOrder(temp.left)\n",
    "        l1.append(temp.data)\n",
    "        if temp.right:\n",
    "            inOrder(temp.right)\n",
    "            \n",
    "    inOrder(root)\n",
    "    \n",
    "    return len(l1)==len(set(l1)) and l1==sorted(l1)"
   ]
  },
  {
   "cell_type": "markdown",
   "metadata": {},
   "source": [
    "* Swap Nodes [Algo]"
   ]
  },
  {
   "cell_type": "code",
   "execution_count": null,
   "metadata": {},
   "outputs": [],
   "source": []
  },
  {
   "cell_type": "code",
   "execution_count": null,
   "metadata": {},
   "outputs": [],
   "source": []
  }
 ],
 "metadata": {
  "kernelspec": {
   "display_name": "Python 3",
   "language": "python",
   "name": "python3"
  },
  "language_info": {
   "codemirror_mode": {
    "name": "ipython",
    "version": 3
   },
   "file_extension": ".py",
   "mimetype": "text/x-python",
   "name": "python",
   "nbconvert_exporter": "python",
   "pygments_lexer": "ipython3",
   "version": "3.6.9"
  }
 },
 "nbformat": 4,
 "nbformat_minor": 4
}
